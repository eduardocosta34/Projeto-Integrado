{
 "cells": [
  {
   "cell_type": "code",
   "execution_count": 13,
   "metadata": {},
   "outputs": [],
   "source": [
    "# Banco de dados simples (em memória)\n",
    "produtos = {}  # Dicionário para armazenar produtos\n",
    "movimentacoes = []  # Lista para armazenar movimentações\n",
    "\n",
    "# Função para cadastrar um produto\n",
    "def cadastrar_produto(id_produto, nome, preco, quantidade):\n",
    "    produtos[id_produto] = {\n",
    "        'nome': nome,\n",
    "        'preco': preco,\n",
    "        'quantidade': quantidade\n",
    "    }\n",
    "    print(f\"Produto '{nome}' cadastrado com sucesso!\")"
   ]
  },
  {
   "cell_type": "code",
   "execution_count": 14,
   "metadata": {},
   "outputs": [],
   "source": [
    "# Função para consultar um produto\n",
    "def consultar_produto(id_produto):\n",
    "    if id_produto in produtos:\n",
    "        produto = produtos[id_produto]\n",
    "        return f\"Produto: {produto['nome']}, Preço: {produto['preco']}, Estoque: {produto['quantidade']}\"\n",
    "    else:\n",
    "        return \"Produto não encontrado!\""
   ]
  },
  {
   "cell_type": "code",
   "execution_count": 15,
   "metadata": {},
   "outputs": [],
   "source": [
    "# Função para movimentar estoque (entrada ou saída)\n",
    "def movimentar_estoque(id_produto, tipo, quantidade):\n",
    "    if id_produto in produtos:\n",
    "        produto = produtos[id_produto]\n",
    "        if tipo == 'entrada':\n",
    "            produto['quantidade'] += quantidade\n",
    "            movimentacoes.append({'id_produto': id_produto, 'tipo': tipo, 'quantidade': quantidade})\n",
    "            print(f\"Entrada de {quantidade} unidades do produto '{produto['nome']}' registrada.\")\n",
    "        elif tipo == 'saida':\n",
    "            if produto['quantidade'] >= quantidade:\n",
    "                produto['quantidade'] -= quantidade\n",
    "                movimentacoes.append({'id_produto': id_produto, 'tipo': tipo, 'quantidade': quantidade})\n",
    "                print(f\"Saída de {quantidade} unidades do produto '{produto['nome']}' registrada.\")\n",
    "            else:\n",
    "                print(f\"Erro: Estoque insuficiente para realizar a saída do produto '{produto['nome']}'.\")\n",
    "    else:\n",
    "        print(\"Produto não encontrado!\")"
   ]
  },
  {
   "cell_type": "code",
   "execution_count": 16,
   "metadata": {},
   "outputs": [],
   "source": [
    "# Função para gerar o relatório de movimentações\n",
    "def gerar_relatorio():\n",
    "    if not movimentacoes:\n",
    "        print(\"Nenhuma movimentação registrada.\")\n",
    "    else:\n",
    "        print(\"\\nRelatório de Movimentações de Estoque:\")\n",
    "        for movimentacao in movimentacoes:\n",
    "            id_produto = movimentacao['id_produto']\n",
    "            produto = produtos[id_produto]\n",
    "            print(f\"Produto: {produto['nome']}, Tipo: {movimentacao['tipo']}, Quantidade: {movimentacao['quantidade']}\")"
   ]
  },
  {
   "cell_type": "code",
   "execution_count": 23,
   "metadata": {},
   "outputs": [
    {
     "name": "stdout",
     "output_type": "stream",
     "text": [
      "Produto 'Celular' cadastrado com sucesso!\n",
      "Produto 'Fone de Ouvido' cadastrado com sucesso!\n",
      "Produto 'Carregador Portatil' cadastrado com sucesso!\n",
      "Produto: Celular, Preço: 1200.0, Estoque: 100\n",
      "Produto: Fone de Ouvido, Preço: 99.9, Estoque: 50\n",
      "Produto: Carregador Portatil, Preço: 299.0, Estoque: 20\n"
     ]
    }
   ],
   "source": [
    "# Cadastrar alguns produtos\n",
    "cadastrar_produto(1, 'Celular', 1200.00 , 100)\n",
    "cadastrar_produto(2, 'Fone de Ouvido', 99.90, 50)\n",
    "cadastrar_produto(3, 'Carregador Portatil', 299.00, 20)\n",
    "\n",
    "# Consultar os produtos cadstrados\n",
    "print(consultar_produto(1))\n",
    "print(consultar_produto(2))\n",
    "print(consultar_produto(3))"
   ]
  },
  {
   "cell_type": "code",
   "execution_count": 25,
   "metadata": {},
   "outputs": [
    {
     "name": "stdout",
     "output_type": "stream",
     "text": [
      "Entrada de 20 unidades do produto 'Celular' registrada.\n",
      "Saída de 10 unidades do produto 'Fone de Ouvido' registrada.\n",
      "Saída de 5 unidades do produto 'Carregador Portatil' registrada.\n",
      "Produto: Celular, Preço: 1200.0, Estoque: 140\n",
      "Produto: Fone de Ouvido, Preço: 99.9, Estoque: 30\n",
      "Produto: Carregador Portatil, Preço: 299.0, Estoque: 10\n",
      "\n",
      "Relatório de Movimentações de Estoque:\n",
      "Produto: Celular, Tipo: entrada, Quantidade: 20\n",
      "Produto: Fone de Ouvido, Tipo: saida, Quantidade: 10\n",
      "Produto: Celular, Tipo: entrada, Quantidade: 20\n",
      "Produto: Fone de Ouvido, Tipo: saida, Quantidade: 10\n",
      "Produto: Celular, Tipo: entrada, Quantidade: 20\n",
      "Produto: Fone de Ouvido, Tipo: saida, Quantidade: 10\n",
      "Produto: Carregador Portatil, Tipo: saida, Quantidade: 5\n",
      "Produto: Celular, Tipo: entrada, Quantidade: 20\n",
      "Produto: Fone de Ouvido, Tipo: saida, Quantidade: 10\n",
      "Produto: Carregador Portatil, Tipo: saida, Quantidade: 5\n"
     ]
    }
   ],
   "source": [
    "# Movimentações de estoque\n",
    "movimentar_estoque(1, 'entrada', 20)  # Entrada de 20 Celulares\n",
    "movimentar_estoque(2, 'saida', 10)    # Saída de 10 Fones de ouvido\n",
    "movimentar_estoque(3, 'saida', 5)     # Saída de 5 Carregadores portáteis\n",
    "\n",
    "# Consultar novamente\n",
    "print(consultar_produto(1))\n",
    "print(consultar_produto(2))\n",
    "print(consultar_produto(3))\n",
    "\n",
    "# Gerar relatório de movimentações\n",
    "gerar_relatorio()"
   ]
  }
 ],
 "metadata": {
  "kernelspec": {
   "display_name": "Python 3",
   "language": "python",
   "name": "python3"
  },
  "language_info": {
   "codemirror_mode": {
    "name": "ipython",
    "version": 3
   },
   "file_extension": ".py",
   "mimetype": "text/x-python",
   "name": "python",
   "nbconvert_exporter": "python",
   "pygments_lexer": "ipython3",
   "version": "3.13.0"
  }
 },
 "nbformat": 4,
 "nbformat_minor": 2
}
